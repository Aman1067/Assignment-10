{
 "cells": [
  {
   "cell_type": "markdown",
   "id": "98f4a435",
   "metadata": {},
   "source": [
    "1. How do you distinguish between shutil.copy() and shutil.copytree()?\n",
    "\n",
    "shutil.copy() is used to copy a single file from a source path to a destination path while shutil.copytree()  is used to copy an entire directory and its contents from a source path to a destination path."
   ]
  },
  {
   "cell_type": "markdown",
   "id": "adfa12af",
   "metadata": {
    "scrolled": true
   },
   "source": [
    "2. What function is used to rename files?\n",
    "\n",
    "os.rename() function is used to rename files."
   ]
  },
  {
   "cell_type": "markdown",
   "id": "5a8f6b1b",
   "metadata": {},
   "source": [
    "3. What is the difference between the delete functions in the send2trash and shutil modules?\n",
    "\n",
    "The send2trash module provides a send2trash() function, which moves a file or directory to the system's trash or recycle bin, instead of deleting it permanently while shutil function permanently delete files or directories from the file system and they cannot be recovered."
   ]
  },
  {
   "cell_type": "markdown",
   "id": "c6b1cef7",
   "metadata": {},
   "source": [
    "4. ZipFile objects have a close() method just like File objects’ close() method. What ZipFile method is equivalent to File objects’ open() method?\n",
    "\n",
    "The equivalent method to File objects' open() method in the ZipFile module is also called open(). The open() method in ZipFile allows to open a ZIP archive file and returns a ZipFile object that we can use to perform various operations on the ZIP archive such as extracting or compressing files."
   ]
  },
  {
   "cell_type": "markdown",
   "id": "25f3681f",
   "metadata": {},
   "source": [
    "5. Create a programme that searches a folder tree for files with a certain file extension (such as .pdf or .jpg). Copy these files from whatever location they are in to a new folder"
   ]
  },
  {
   "cell_type": "code",
   "execution_count": null,
   "id": "fe211604",
   "metadata": {},
   "outputs": [],
   "source": [
    "import os\n",
    "import shutil\n",
    "\n",
    "def copy_files_with_extension(src_dir, dest_dir, file_extension):\n",
    "    # Create destination directory if it does not exist\n",
    "    if not os.path.exists(dest_dir):\n",
    "        os.makedirs(dest_dir)\n",
    "\n",
    "    # Traverse the directory tree and copy files with the specified extension\n",
    "    for root, dirs, files in os.walk(src_dir):\n",
    "        for file in files:\n",
    "            if file.endswith(file_extension):\n",
    "                src_path = os.path.join(root, file)\n",
    "                dest_path = os.path.join(dest_dir, file)\n",
    "                shutil.copy(src_path, dest_path)\n",
    "                print(f\"Copied {src_path} to {dest_path}\")\n",
    "\n",
    "# Example:\n",
    "copy_files_with_extension(\"/path/to/source/folder\", \"/path/to/destination/folder\", \".pdf\")\n"
   ]
  }
 ],
 "metadata": {
  "kernelspec": {
   "display_name": "Python 3 (ipykernel)",
   "language": "python",
   "name": "python3"
  },
  "language_info": {
   "codemirror_mode": {
    "name": "ipython",
    "version": 3
   },
   "file_extension": ".py",
   "mimetype": "text/x-python",
   "name": "python",
   "nbconvert_exporter": "python",
   "pygments_lexer": "ipython3",
   "version": "3.9.7"
  }
 },
 "nbformat": 4,
 "nbformat_minor": 5
}
